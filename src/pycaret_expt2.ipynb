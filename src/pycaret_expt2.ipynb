{
  "nbformat": 4,
  "nbformat_minor": 0,
  "metadata": {
    "colab": {
      "name": "pycaret_expt2.ipynb",
      "provenance": []
    },
    "kernelspec": {
      "display_name": "Python 3",
      "name": "python3"
    },
    "language_info": {
      "name": "python"
    },
    "widgets": {
      "application/vnd.jupyter.widget-state+json": {
        "e0fbfaefb1bb41f79fe4e97187732a56": {
          "model_module": "@jupyter-widgets/controls",
          "model_name": "IntProgressModel",
          "state": {
            "_view_name": "ProgressView",
            "style": "IPY_MODEL_1dad777a72b043d19529185964534db5",
            "_dom_classes": [],
            "description": "Processing: ",
            "_model_name": "IntProgressModel",
            "bar_style": "",
            "max": 7,
            "_view_module": "@jupyter-widgets/controls",
            "_model_module_version": "1.5.0",
            "value": 7,
            "_view_count": null,
            "_view_module_version": "1.5.0",
            "orientation": "horizontal",
            "min": 0,
            "description_tooltip": null,
            "_model_module": "@jupyter-widgets/controls",
            "layout": "IPY_MODEL_ea080f72c5134a68bf51bee9c0647306"
          }
        },
        "1dad777a72b043d19529185964534db5": {
          "model_module": "@jupyter-widgets/controls",
          "model_name": "ProgressStyleModel",
          "state": {
            "_view_name": "StyleView",
            "_model_name": "ProgressStyleModel",
            "description_width": "",
            "_view_module": "@jupyter-widgets/base",
            "_model_module_version": "1.5.0",
            "_view_count": null,
            "_view_module_version": "1.2.0",
            "bar_color": null,
            "_model_module": "@jupyter-widgets/controls"
          }
        },
        "ea080f72c5134a68bf51bee9c0647306": {
          "model_module": "@jupyter-widgets/base",
          "model_name": "LayoutModel",
          "state": {
            "_view_name": "LayoutView",
            "grid_template_rows": null,
            "right": null,
            "justify_content": null,
            "_view_module": "@jupyter-widgets/base",
            "overflow": null,
            "_model_module_version": "1.2.0",
            "_view_count": null,
            "flex_flow": null,
            "width": null,
            "min_width": null,
            "border": null,
            "align_items": null,
            "bottom": null,
            "_model_module": "@jupyter-widgets/base",
            "top": null,
            "grid_column": null,
            "overflow_y": null,
            "overflow_x": null,
            "grid_auto_flow": null,
            "grid_area": null,
            "grid_template_columns": null,
            "flex": null,
            "_model_name": "LayoutModel",
            "justify_items": null,
            "grid_row": null,
            "max_height": null,
            "align_content": null,
            "visibility": null,
            "align_self": null,
            "height": null,
            "min_height": null,
            "padding": null,
            "grid_auto_rows": null,
            "grid_gap": null,
            "max_width": null,
            "order": null,
            "_view_module_version": "1.2.0",
            "grid_template_areas": null,
            "object_position": null,
            "object_fit": null,
            "grid_auto_columns": null,
            "margin": null,
            "display": null,
            "left": null
          }
        },
        "48373fde54a3405cbade293b7b8ca88a": {
          "model_module": "@jupyter-widgets/controls",
          "model_name": "IntProgressModel",
          "state": {
            "_view_name": "ProgressView",
            "style": "IPY_MODEL_49e5e483f853498fa628fd00467debdd",
            "_dom_classes": [],
            "description": "Processing: ",
            "_model_name": "IntProgressModel",
            "bar_style": "",
            "max": 7,
            "_view_module": "@jupyter-widgets/controls",
            "_model_module_version": "1.5.0",
            "value": 7,
            "_view_count": null,
            "_view_module_version": "1.5.0",
            "orientation": "horizontal",
            "min": 0,
            "description_tooltip": null,
            "_model_module": "@jupyter-widgets/controls",
            "layout": "IPY_MODEL_26445a21519741b6b630d1104d182110"
          }
        },
        "49e5e483f853498fa628fd00467debdd": {
          "model_module": "@jupyter-widgets/controls",
          "model_name": "ProgressStyleModel",
          "state": {
            "_view_name": "StyleView",
            "_model_name": "ProgressStyleModel",
            "description_width": "",
            "_view_module": "@jupyter-widgets/base",
            "_model_module_version": "1.5.0",
            "_view_count": null,
            "_view_module_version": "1.2.0",
            "bar_color": null,
            "_model_module": "@jupyter-widgets/controls"
          }
        },
        "26445a21519741b6b630d1104d182110": {
          "model_module": "@jupyter-widgets/base",
          "model_name": "LayoutModel",
          "state": {
            "_view_name": "LayoutView",
            "grid_template_rows": null,
            "right": null,
            "justify_content": null,
            "_view_module": "@jupyter-widgets/base",
            "overflow": null,
            "_model_module_version": "1.2.0",
            "_view_count": null,
            "flex_flow": null,
            "width": null,
            "min_width": null,
            "border": null,
            "align_items": null,
            "bottom": null,
            "_model_module": "@jupyter-widgets/base",
            "top": null,
            "grid_column": null,
            "overflow_y": null,
            "overflow_x": null,
            "grid_auto_flow": null,
            "grid_area": null,
            "grid_template_columns": null,
            "flex": null,
            "_model_name": "LayoutModel",
            "justify_items": null,
            "grid_row": null,
            "max_height": null,
            "align_content": null,
            "visibility": null,
            "align_self": null,
            "height": null,
            "min_height": null,
            "padding": null,
            "grid_auto_rows": null,
            "grid_gap": null,
            "max_width": null,
            "order": null,
            "_view_module_version": "1.2.0",
            "grid_template_areas": null,
            "object_position": null,
            "object_fit": null,
            "grid_auto_columns": null,
            "margin": null,
            "display": null,
            "left": null
          }
        },
        "74ec2df90e2546eead7f5cdfb61f9185": {
          "model_module": "@jupyter-widgets/controls",
          "model_name": "IntProgressModel",
          "state": {
            "_view_name": "ProgressView",
            "style": "IPY_MODEL_ab3de6357a214fab825d8e2b291c8f6c",
            "_dom_classes": [],
            "description": "Processing: ",
            "_model_name": "IntProgressModel",
            "bar_style": "",
            "max": 5,
            "_view_module": "@jupyter-widgets/controls",
            "_model_module_version": "1.5.0",
            "value": 5,
            "_view_count": null,
            "_view_module_version": "1.5.0",
            "orientation": "horizontal",
            "min": 0,
            "description_tooltip": null,
            "_model_module": "@jupyter-widgets/controls",
            "layout": "IPY_MODEL_be004d71ade4471ab7202277843d3c3f"
          }
        },
        "ab3de6357a214fab825d8e2b291c8f6c": {
          "model_module": "@jupyter-widgets/controls",
          "model_name": "ProgressStyleModel",
          "state": {
            "_view_name": "StyleView",
            "_model_name": "ProgressStyleModel",
            "description_width": "",
            "_view_module": "@jupyter-widgets/base",
            "_model_module_version": "1.5.0",
            "_view_count": null,
            "_view_module_version": "1.2.0",
            "bar_color": null,
            "_model_module": "@jupyter-widgets/controls"
          }
        },
        "be004d71ade4471ab7202277843d3c3f": {
          "model_module": "@jupyter-widgets/base",
          "model_name": "LayoutModel",
          "state": {
            "_view_name": "LayoutView",
            "grid_template_rows": null,
            "right": null,
            "justify_content": null,
            "_view_module": "@jupyter-widgets/base",
            "overflow": null,
            "_model_module_version": "1.2.0",
            "_view_count": null,
            "flex_flow": null,
            "width": null,
            "min_width": null,
            "border": null,
            "align_items": null,
            "bottom": null,
            "_model_module": "@jupyter-widgets/base",
            "top": null,
            "grid_column": null,
            "overflow_y": null,
            "overflow_x": null,
            "grid_auto_flow": null,
            "grid_area": null,
            "grid_template_columns": null,
            "flex": null,
            "_model_name": "LayoutModel",
            "justify_items": null,
            "grid_row": null,
            "max_height": null,
            "align_content": null,
            "visibility": null,
            "align_self": null,
            "height": null,
            "min_height": null,
            "padding": null,
            "grid_auto_rows": null,
            "grid_gap": null,
            "max_width": null,
            "order": null,
            "_view_module_version": "1.2.0",
            "grid_template_areas": null,
            "object_position": null,
            "object_fit": null,
            "grid_auto_columns": null,
            "margin": null,
            "display": null,
            "left": null
          }
        },
        "114f0a020e4f41d9bba8b64db7229ebc": {
          "model_module": "@jupyter-widgets/controls",
          "model_name": "IntProgressModel",
          "state": {
            "_view_name": "ProgressView",
            "style": "IPY_MODEL_ee50c930e31740f290b951e1dcd5eff9",
            "_dom_classes": [],
            "description": "Processing: ",
            "_model_name": "IntProgressModel",
            "bar_style": "",
            "max": 5,
            "_view_module": "@jupyter-widgets/controls",
            "_model_module_version": "1.5.0",
            "value": 5,
            "_view_count": null,
            "_view_module_version": "1.5.0",
            "orientation": "horizontal",
            "min": 0,
            "description_tooltip": null,
            "_model_module": "@jupyter-widgets/controls",
            "layout": "IPY_MODEL_6579926014464a7b816af49bac1c463e"
          }
        },
        "ee50c930e31740f290b951e1dcd5eff9": {
          "model_module": "@jupyter-widgets/controls",
          "model_name": "ProgressStyleModel",
          "state": {
            "_view_name": "StyleView",
            "_model_name": "ProgressStyleModel",
            "description_width": "",
            "_view_module": "@jupyter-widgets/base",
            "_model_module_version": "1.5.0",
            "_view_count": null,
            "_view_module_version": "1.2.0",
            "bar_color": null,
            "_model_module": "@jupyter-widgets/controls"
          }
        },
        "6579926014464a7b816af49bac1c463e": {
          "model_module": "@jupyter-widgets/base",
          "model_name": "LayoutModel",
          "state": {
            "_view_name": "LayoutView",
            "grid_template_rows": null,
            "right": null,
            "justify_content": null,
            "_view_module": "@jupyter-widgets/base",
            "overflow": null,
            "_model_module_version": "1.2.0",
            "_view_count": null,
            "flex_flow": null,
            "width": null,
            "min_width": null,
            "border": null,
            "align_items": null,
            "bottom": null,
            "_model_module": "@jupyter-widgets/base",
            "top": null,
            "grid_column": null,
            "overflow_y": null,
            "overflow_x": null,
            "grid_auto_flow": null,
            "grid_area": null,
            "grid_template_columns": null,
            "flex": null,
            "_model_name": "LayoutModel",
            "justify_items": null,
            "grid_row": null,
            "max_height": null,
            "align_content": null,
            "visibility": null,
            "align_self": null,
            "height": null,
            "min_height": null,
            "padding": null,
            "grid_auto_rows": null,
            "grid_gap": null,
            "max_width": null,
            "order": null,
            "_view_module_version": "1.2.0",
            "grid_template_areas": null,
            "object_position": null,
            "object_fit": null,
            "grid_auto_columns": null,
            "margin": null,
            "display": null,
            "left": null
          }
        },
        "1bddef18e01c432ebec3d95235bae6fa": {
          "model_module": "@jupyter-widgets/controls",
          "model_name": "IntProgressModel",
          "state": {
            "_view_name": "ProgressView",
            "style": "IPY_MODEL_f862c7b199624fe7bd413e62b094bf4d",
            "_dom_classes": [],
            "description": "Processing: ",
            "_model_name": "IntProgressModel",
            "bar_style": "",
            "max": 5,
            "_view_module": "@jupyter-widgets/controls",
            "_model_module_version": "1.5.0",
            "value": 5,
            "_view_count": null,
            "_view_module_version": "1.5.0",
            "orientation": "horizontal",
            "min": 0,
            "description_tooltip": null,
            "_model_module": "@jupyter-widgets/controls",
            "layout": "IPY_MODEL_82e59eb07b1b42ee9918d77c72460b4b"
          }
        },
        "f862c7b199624fe7bd413e62b094bf4d": {
          "model_module": "@jupyter-widgets/controls",
          "model_name": "ProgressStyleModel",
          "state": {
            "_view_name": "StyleView",
            "_model_name": "ProgressStyleModel",
            "description_width": "",
            "_view_module": "@jupyter-widgets/base",
            "_model_module_version": "1.5.0",
            "_view_count": null,
            "_view_module_version": "1.2.0",
            "bar_color": null,
            "_model_module": "@jupyter-widgets/controls"
          }
        },
        "82e59eb07b1b42ee9918d77c72460b4b": {
          "model_module": "@jupyter-widgets/base",
          "model_name": "LayoutModel",
          "state": {
            "_view_name": "LayoutView",
            "grid_template_rows": null,
            "right": null,
            "justify_content": null,
            "_view_module": "@jupyter-widgets/base",
            "overflow": null,
            "_model_module_version": "1.2.0",
            "_view_count": null,
            "flex_flow": null,
            "width": null,
            "min_width": null,
            "border": null,
            "align_items": null,
            "bottom": null,
            "_model_module": "@jupyter-widgets/base",
            "top": null,
            "grid_column": null,
            "overflow_y": null,
            "overflow_x": null,
            "grid_auto_flow": null,
            "grid_area": null,
            "grid_template_columns": null,
            "flex": null,
            "_model_name": "LayoutModel",
            "justify_items": null,
            "grid_row": null,
            "max_height": null,
            "align_content": null,
            "visibility": null,
            "align_self": null,
            "height": null,
            "min_height": null,
            "padding": null,
            "grid_auto_rows": null,
            "grid_gap": null,
            "max_width": null,
            "order": null,
            "_view_module_version": "1.2.0",
            "grid_template_areas": null,
            "object_position": null,
            "object_fit": null,
            "grid_auto_columns": null,
            "margin": null,
            "display": null,
            "left": null
          }
        }
      }
    }
  },
  "cells": [
    {
      "cell_type": "code",
      "metadata": {
        "id": "ztMi7Ts-KI2l"
      },
      "source": [
        "!pip install pycaret"
      ],
      "execution_count": null,
      "outputs": []
    },
    {
      "cell_type": "code",
      "metadata": {
        "colab": {
          "base_uri": "https://localhost:8080/"
        },
        "id": "Ya-dAoiEewQH",
        "outputId": "9129bb4b-f750-4e01-b31f-9c0613d25a86"
      },
      "source": [
        "import pandas as pd\n",
        "df = pd.read_csv(\"/content/creditcard.csv\")              # Uploading on Colab\n",
        "\n",
        "data = df.sample(frac=0.1, random_state=42)               # Sample 10% of the original data to reduce training time \n",
        "data.reset_index(drop=True, inplace=True)\n",
        "print('Smaller Dataset:', data.shape)"
      ],
      "execution_count": null,
      "outputs": [
        {
          "output_type": "stream",
          "text": [
            "Smaller Dataset: (28481, 31)\n"
          ],
          "name": "stdout"
        }
      ]
    },
    {
      "cell_type": "code",
      "metadata": {
        "colab": {
          "base_uri": "https://localhost:8080/"
        },
        "id": "X7fy0afufjOm",
        "outputId": "c08c17bc-71a9-409d-9b2b-6d98f6a11ae3"
      },
      "source": [
        "data_unseen = data.sample(frac=0.1, random_state=42)      # Sample 10% of the data to become the unseen test set\n",
        "data = data.drop(data_unseen.index)                      # Use the remaining 90% as the training (& validation) data\n",
        "\n",
        "data.reset_index(drop=True, inplace=True)\n",
        "data_unseen.reset_index(drop=True, inplace=True)\n",
        "\n",
        "print('Data for Model Training & Validation: ' + str(data.shape))\n",
        "print('Unseen Data For Predictions: ' + str(data_unseen.shape))\n",
        "\n",
        "data_unseen.to_csv('/content/test.csv')"
      ],
      "execution_count": null,
      "outputs": [
        {
          "output_type": "stream",
          "text": [
            "Data for Model Training & Validation: (23070, 31)\n",
            "Unseen Data For Predictions: (2563, 31)\n"
          ],
          "name": "stdout"
        }
      ]
    },
    {
      "cell_type": "code",
      "metadata": {
        "id": "V0t9-DgSgfAX"
      },
      "source": [
        "from pycaret.classification import *"
      ],
      "execution_count": null,
      "outputs": []
    },
    {
      "cell_type": "code",
      "metadata": {
        "id": "T_iA0gz7kJrr"
      },
      "source": [
        "import mlflow\n",
        "mlflow.set_tracking_uri('file:/content/mlruns')"
      ],
      "execution_count": null,
      "outputs": []
    },
    {
      "cell_type": "code",
      "metadata": {
        "colab": {
          "base_uri": "https://localhost:8080/",
          "height": 1000
        },
        "id": "r2HSOOvthFH3",
        "outputId": "fefaa657-c970-48c8-f881-7bc111e607de"
      },
      "source": [
        "expt = setup(\n",
        "    data = data, \n",
        "    target = 'Class', \n",
        "    session_id=42,                      # Random seed to ensure reproducibility of the experiment with the same data\n",
        "    train_size=0.8,                     # 80% training data & 20% held-out validation data \n",
        "    normalize=True,\n",
        "    normalize_method=\"minmax\",\n",
        "    polynomial_features=True,\n",
        "    trigonometry_features=True,\n",
        "    fix_imbalance=True,\n",
        "    log_experiment=True,\n",
        "    experiment_name='Credit Card Fraud - Expt 2',\n",
        "    log_plots=True \n",
        ")"
      ],
      "execution_count": null,
      "outputs": [
        {
          "output_type": "display_data",
          "data": {
            "text/html": [
              "<div>\n",
              "<style scoped>\n",
              "    .dataframe tbody tr th:only-of-type {\n",
              "        vertical-align: middle;\n",
              "    }\n",
              "\n",
              "    .dataframe tbody tr th {\n",
              "        vertical-align: top;\n",
              "    }\n",
              "\n",
              "    .dataframe thead th {\n",
              "        text-align: right;\n",
              "    }\n",
              "</style>\n",
              "<table border=\"1\" class=\"dataframe\">\n",
              "  <thead>\n",
              "    <tr style=\"text-align: right;\">\n",
              "      <th></th>\n",
              "      <th>Description</th>\n",
              "      <th>Value</th>\n",
              "    </tr>\n",
              "  </thead>\n",
              "  <tbody>\n",
              "    <tr>\n",
              "      <th>0</th>\n",
              "      <td>session_id</td>\n",
              "      <td>42</td>\n",
              "    </tr>\n",
              "    <tr>\n",
              "      <th>1</th>\n",
              "      <td>Target</td>\n",
              "      <td>Class</td>\n",
              "    </tr>\n",
              "    <tr>\n",
              "      <th>2</th>\n",
              "      <td>Target Type</td>\n",
              "      <td>Binary</td>\n",
              "    </tr>\n",
              "    <tr>\n",
              "      <th>3</th>\n",
              "      <td>Label Encoded</td>\n",
              "      <td>0: 0, 1: 1</td>\n",
              "    </tr>\n",
              "    <tr>\n",
              "      <th>4</th>\n",
              "      <td>Original Data</td>\n",
              "      <td>(23070, 31)</td>\n",
              "    </tr>\n",
              "    <tr>\n",
              "      <th>5</th>\n",
              "      <td>Missing Values</td>\n",
              "      <td>False</td>\n",
              "    </tr>\n",
              "    <tr>\n",
              "      <th>6</th>\n",
              "      <td>Numeric Features</td>\n",
              "      <td>30</td>\n",
              "    </tr>\n",
              "    <tr>\n",
              "      <th>7</th>\n",
              "      <td>Categorical Features</td>\n",
              "      <td>0</td>\n",
              "    </tr>\n",
              "    <tr>\n",
              "      <th>8</th>\n",
              "      <td>Ordinal Features</td>\n",
              "      <td>False</td>\n",
              "    </tr>\n",
              "    <tr>\n",
              "      <th>9</th>\n",
              "      <td>High Cardinality Features</td>\n",
              "      <td>False</td>\n",
              "    </tr>\n",
              "    <tr>\n",
              "      <th>10</th>\n",
              "      <td>High Cardinality Method</td>\n",
              "      <td>None</td>\n",
              "    </tr>\n",
              "    <tr>\n",
              "      <th>11</th>\n",
              "      <td>Transformed Train Set</td>\n",
              "      <td>(18456, 59)</td>\n",
              "    </tr>\n",
              "    <tr>\n",
              "      <th>12</th>\n",
              "      <td>Transformed Test Set</td>\n",
              "      <td>(4614, 59)</td>\n",
              "    </tr>\n",
              "    <tr>\n",
              "      <th>13</th>\n",
              "      <td>Shuffle Train-Test</td>\n",
              "      <td>True</td>\n",
              "    </tr>\n",
              "    <tr>\n",
              "      <th>14</th>\n",
              "      <td>Stratify Train-Test</td>\n",
              "      <td>False</td>\n",
              "    </tr>\n",
              "    <tr>\n",
              "      <th>15</th>\n",
              "      <td>Fold Generator</td>\n",
              "      <td>StratifiedKFold</td>\n",
              "    </tr>\n",
              "    <tr>\n",
              "      <th>16</th>\n",
              "      <td>Fold Number</td>\n",
              "      <td>10</td>\n",
              "    </tr>\n",
              "    <tr>\n",
              "      <th>17</th>\n",
              "      <td>CPU Jobs</td>\n",
              "      <td>-1</td>\n",
              "    </tr>\n",
              "    <tr>\n",
              "      <th>18</th>\n",
              "      <td>Use GPU</td>\n",
              "      <td>False</td>\n",
              "    </tr>\n",
              "    <tr>\n",
              "      <th>19</th>\n",
              "      <td>Log Experiment</td>\n",
              "      <td>True</td>\n",
              "    </tr>\n",
              "    <tr>\n",
              "      <th>20</th>\n",
              "      <td>Experiment Name</td>\n",
              "      <td>Credit Card Fraud - Expt 2</td>\n",
              "    </tr>\n",
              "    <tr>\n",
              "      <th>21</th>\n",
              "      <td>USI</td>\n",
              "      <td>1dde</td>\n",
              "    </tr>\n",
              "    <tr>\n",
              "      <th>22</th>\n",
              "      <td>Imputation Type</td>\n",
              "      <td>simple</td>\n",
              "    </tr>\n",
              "    <tr>\n",
              "      <th>23</th>\n",
              "      <td>Iterative Imputation Iteration</td>\n",
              "      <td>None</td>\n",
              "    </tr>\n",
              "    <tr>\n",
              "      <th>24</th>\n",
              "      <td>Numeric Imputer</td>\n",
              "      <td>mean</td>\n",
              "    </tr>\n",
              "    <tr>\n",
              "      <th>25</th>\n",
              "      <td>Iterative Imputation Numeric Model</td>\n",
              "      <td>None</td>\n",
              "    </tr>\n",
              "    <tr>\n",
              "      <th>26</th>\n",
              "      <td>Categorical Imputer</td>\n",
              "      <td>constant</td>\n",
              "    </tr>\n",
              "    <tr>\n",
              "      <th>27</th>\n",
              "      <td>Iterative Imputation Categorical Model</td>\n",
              "      <td>None</td>\n",
              "    </tr>\n",
              "    <tr>\n",
              "      <th>28</th>\n",
              "      <td>Unknown Categoricals Handling</td>\n",
              "      <td>least_frequent</td>\n",
              "    </tr>\n",
              "    <tr>\n",
              "      <th>29</th>\n",
              "      <td>Normalize</td>\n",
              "      <td>True</td>\n",
              "    </tr>\n",
              "    <tr>\n",
              "      <th>30</th>\n",
              "      <td>Normalize Method</td>\n",
              "      <td>minmax</td>\n",
              "    </tr>\n",
              "    <tr>\n",
              "      <th>31</th>\n",
              "      <td>Transformation</td>\n",
              "      <td>False</td>\n",
              "    </tr>\n",
              "    <tr>\n",
              "      <th>32</th>\n",
              "      <td>Transformation Method</td>\n",
              "      <td>None</td>\n",
              "    </tr>\n",
              "    <tr>\n",
              "      <th>33</th>\n",
              "      <td>PCA</td>\n",
              "      <td>False</td>\n",
              "    </tr>\n",
              "    <tr>\n",
              "      <th>34</th>\n",
              "      <td>PCA Method</td>\n",
              "      <td>None</td>\n",
              "    </tr>\n",
              "    <tr>\n",
              "      <th>35</th>\n",
              "      <td>PCA Components</td>\n",
              "      <td>None</td>\n",
              "    </tr>\n",
              "    <tr>\n",
              "      <th>36</th>\n",
              "      <td>Ignore Low Variance</td>\n",
              "      <td>False</td>\n",
              "    </tr>\n",
              "    <tr>\n",
              "      <th>37</th>\n",
              "      <td>Combine Rare Levels</td>\n",
              "      <td>False</td>\n",
              "    </tr>\n",
              "    <tr>\n",
              "      <th>38</th>\n",
              "      <td>Rare Level Threshold</td>\n",
              "      <td>None</td>\n",
              "    </tr>\n",
              "    <tr>\n",
              "      <th>39</th>\n",
              "      <td>Numeric Binning</td>\n",
              "      <td>False</td>\n",
              "    </tr>\n",
              "    <tr>\n",
              "      <th>40</th>\n",
              "      <td>Remove Outliers</td>\n",
              "      <td>False</td>\n",
              "    </tr>\n",
              "    <tr>\n",
              "      <th>41</th>\n",
              "      <td>Outliers Threshold</td>\n",
              "      <td>None</td>\n",
              "    </tr>\n",
              "    <tr>\n",
              "      <th>42</th>\n",
              "      <td>Remove Multicollinearity</td>\n",
              "      <td>False</td>\n",
              "    </tr>\n",
              "    <tr>\n",
              "      <th>43</th>\n",
              "      <td>Multicollinearity Threshold</td>\n",
              "      <td>None</td>\n",
              "    </tr>\n",
              "    <tr>\n",
              "      <th>44</th>\n",
              "      <td>Remove Perfect Collinearity</td>\n",
              "      <td>True</td>\n",
              "    </tr>\n",
              "    <tr>\n",
              "      <th>45</th>\n",
              "      <td>Clustering</td>\n",
              "      <td>False</td>\n",
              "    </tr>\n",
              "    <tr>\n",
              "      <th>46</th>\n",
              "      <td>Clustering Iteration</td>\n",
              "      <td>None</td>\n",
              "    </tr>\n",
              "    <tr>\n",
              "      <th>47</th>\n",
              "      <td>Polynomial Features</td>\n",
              "      <td>True</td>\n",
              "    </tr>\n",
              "    <tr>\n",
              "      <th>48</th>\n",
              "      <td>Polynomial Degree</td>\n",
              "      <td>2</td>\n",
              "    </tr>\n",
              "    <tr>\n",
              "      <th>49</th>\n",
              "      <td>Trignometry Features</td>\n",
              "      <td>True</td>\n",
              "    </tr>\n",
              "    <tr>\n",
              "      <th>50</th>\n",
              "      <td>Polynomial Threshold</td>\n",
              "      <td>0.1</td>\n",
              "    </tr>\n",
              "    <tr>\n",
              "      <th>51</th>\n",
              "      <td>Group Features</td>\n",
              "      <td>False</td>\n",
              "    </tr>\n",
              "    <tr>\n",
              "      <th>52</th>\n",
              "      <td>Feature Selection</td>\n",
              "      <td>False</td>\n",
              "    </tr>\n",
              "    <tr>\n",
              "      <th>53</th>\n",
              "      <td>Feature Selection Method</td>\n",
              "      <td>classic</td>\n",
              "    </tr>\n",
              "    <tr>\n",
              "      <th>54</th>\n",
              "      <td>Features Selection Threshold</td>\n",
              "      <td>None</td>\n",
              "    </tr>\n",
              "    <tr>\n",
              "      <th>55</th>\n",
              "      <td>Feature Interaction</td>\n",
              "      <td>False</td>\n",
              "    </tr>\n",
              "    <tr>\n",
              "      <th>56</th>\n",
              "      <td>Feature Ratio</td>\n",
              "      <td>False</td>\n",
              "    </tr>\n",
              "    <tr>\n",
              "      <th>57</th>\n",
              "      <td>Interaction Threshold</td>\n",
              "      <td>None</td>\n",
              "    </tr>\n",
              "    <tr>\n",
              "      <th>58</th>\n",
              "      <td>Fix Imbalance</td>\n",
              "      <td>True</td>\n",
              "    </tr>\n",
              "    <tr>\n",
              "      <th>59</th>\n",
              "      <td>Fix Imbalance Method</td>\n",
              "      <td>SMOTE</td>\n",
              "    </tr>\n",
              "  </tbody>\n",
              "</table>\n",
              "</div>"
            ],
            "text/plain": [
              "                               Description                       Value\n",
              "0                               session_id                          42\n",
              "1                                   Target                       Class\n",
              "2                              Target Type                      Binary\n",
              "3                            Label Encoded                  0: 0, 1: 1\n",
              "4                            Original Data                 (23070, 31)\n",
              "5                           Missing Values                       False\n",
              "6                         Numeric Features                          30\n",
              "7                     Categorical Features                           0\n",
              "8                         Ordinal Features                       False\n",
              "9                High Cardinality Features                       False\n",
              "10                 High Cardinality Method                        None\n",
              "11                   Transformed Train Set                 (18456, 59)\n",
              "12                    Transformed Test Set                  (4614, 59)\n",
              "13                      Shuffle Train-Test                        True\n",
              "14                     Stratify Train-Test                       False\n",
              "15                          Fold Generator             StratifiedKFold\n",
              "16                             Fold Number                          10\n",
              "17                                CPU Jobs                          -1\n",
              "18                                 Use GPU                       False\n",
              "19                          Log Experiment                        True\n",
              "20                         Experiment Name  Credit Card Fraud - Expt 2\n",
              "21                                     USI                        1dde\n",
              "22                         Imputation Type                      simple\n",
              "23          Iterative Imputation Iteration                        None\n",
              "24                         Numeric Imputer                        mean\n",
              "25      Iterative Imputation Numeric Model                        None\n",
              "26                     Categorical Imputer                    constant\n",
              "27  Iterative Imputation Categorical Model                        None\n",
              "28           Unknown Categoricals Handling              least_frequent\n",
              "29                               Normalize                        True\n",
              "30                        Normalize Method                      minmax\n",
              "31                          Transformation                       False\n",
              "32                   Transformation Method                        None\n",
              "33                                     PCA                       False\n",
              "34                              PCA Method                        None\n",
              "35                          PCA Components                        None\n",
              "36                     Ignore Low Variance                       False\n",
              "37                     Combine Rare Levels                       False\n",
              "38                    Rare Level Threshold                        None\n",
              "39                         Numeric Binning                       False\n",
              "40                         Remove Outliers                       False\n",
              "41                      Outliers Threshold                        None\n",
              "42                Remove Multicollinearity                       False\n",
              "43             Multicollinearity Threshold                        None\n",
              "44             Remove Perfect Collinearity                        True\n",
              "45                              Clustering                       False\n",
              "46                    Clustering Iteration                        None\n",
              "47                     Polynomial Features                        True\n",
              "48                       Polynomial Degree                           2\n",
              "49                    Trignometry Features                        True\n",
              "50                    Polynomial Threshold                         0.1\n",
              "51                          Group Features                       False\n",
              "52                       Feature Selection                       False\n",
              "53                Feature Selection Method                     classic\n",
              "54            Features Selection Threshold                        None\n",
              "55                     Feature Interaction                       False\n",
              "56                           Feature Ratio                       False\n",
              "57                   Interaction Threshold                        None\n",
              "58                           Fix Imbalance                        True\n",
              "59                    Fix Imbalance Method                       SMOTE"
            ]
          },
          "metadata": {
            "tags": []
          }
        }
      ]
    },
    {
      "cell_type": "code",
      "metadata": {
        "colab": {
          "base_uri": "https://localhost:8080/",
          "height": 452
        },
        "id": "wYxjVuwbmYWn",
        "outputId": "6fdcdf70-8559-45b7-e1b9-dcdfd823b69f"
      },
      "source": [
        "top2 = compare_models(sort='F1', fold=5, n_select=2)"
      ],
      "execution_count": null,
      "outputs": [
        {
          "output_type": "display_data",
          "data": {
            "text/html": [
              "<div>\n",
              "<style scoped>\n",
              "    .dataframe tbody tr th:only-of-type {\n",
              "        vertical-align: middle;\n",
              "    }\n",
              "\n",
              "    .dataframe tbody tr th {\n",
              "        vertical-align: top;\n",
              "    }\n",
              "\n",
              "    .dataframe thead th {\n",
              "        text-align: right;\n",
              "    }\n",
              "</style>\n",
              "<table border=\"1\" class=\"dataframe\">\n",
              "  <thead>\n",
              "    <tr style=\"text-align: right;\">\n",
              "      <th></th>\n",
              "      <th>Model</th>\n",
              "      <th>Accuracy</th>\n",
              "      <th>AUC</th>\n",
              "      <th>Recall</th>\n",
              "      <th>Prec.</th>\n",
              "      <th>F1</th>\n",
              "      <th>Kappa</th>\n",
              "      <th>MCC</th>\n",
              "      <th>TT (Sec)</th>\n",
              "    </tr>\n",
              "  </thead>\n",
              "  <tbody>\n",
              "    <tr>\n",
              "      <th>et</th>\n",
              "      <td>Extra Trees Classifier</td>\n",
              "      <td>0.9992</td>\n",
              "      <td>0.9435</td>\n",
              "      <td>0.7048</td>\n",
              "      <td>0.8057</td>\n",
              "      <td>0.7347</td>\n",
              "      <td>0.7343</td>\n",
              "      <td>0.7444</td>\n",
              "      <td>2.020</td>\n",
              "    </tr>\n",
              "    <tr>\n",
              "      <th>rf</th>\n",
              "      <td>Random Forest Classifier</td>\n",
              "      <td>0.9990</td>\n",
              "      <td>0.9598</td>\n",
              "      <td>0.6381</td>\n",
              "      <td>0.7581</td>\n",
              "      <td>0.6805</td>\n",
              "      <td>0.6800</td>\n",
              "      <td>0.6886</td>\n",
              "      <td>11.986</td>\n",
              "    </tr>\n",
              "    <tr>\n",
              "      <th>gbc</th>\n",
              "      <td>Gradient Boosting Classifier</td>\n",
              "      <td>0.9984</td>\n",
              "      <td>0.9576</td>\n",
              "      <td>0.6714</td>\n",
              "      <td>0.5317</td>\n",
              "      <td>0.5874</td>\n",
              "      <td>0.5866</td>\n",
              "      <td>0.5937</td>\n",
              "      <td>54.442</td>\n",
              "    </tr>\n",
              "    <tr>\n",
              "      <th>ada</th>\n",
              "      <td>Ada Boost Classifier</td>\n",
              "      <td>0.9984</td>\n",
              "      <td>0.9371</td>\n",
              "      <td>0.6714</td>\n",
              "      <td>0.5445</td>\n",
              "      <td>0.5757</td>\n",
              "      <td>0.5750</td>\n",
              "      <td>0.5907</td>\n",
              "      <td>10.650</td>\n",
              "    </tr>\n",
              "    <tr>\n",
              "      <th>lightgbm</th>\n",
              "      <td>Light Gradient Boosting Machine</td>\n",
              "      <td>0.9985</td>\n",
              "      <td>0.9293</td>\n",
              "      <td>0.5762</td>\n",
              "      <td>0.6465</td>\n",
              "      <td>0.5733</td>\n",
              "      <td>0.5726</td>\n",
              "      <td>0.5912</td>\n",
              "      <td>1.904</td>\n",
              "    </tr>\n",
              "    <tr>\n",
              "      <th>knn</th>\n",
              "      <td>K Neighbors Classifier</td>\n",
              "      <td>0.9966</td>\n",
              "      <td>0.8369</td>\n",
              "      <td>0.6762</td>\n",
              "      <td>0.2801</td>\n",
              "      <td>0.3942</td>\n",
              "      <td>0.3928</td>\n",
              "      <td>0.4326</td>\n",
              "      <td>10.200</td>\n",
              "    </tr>\n",
              "    <tr>\n",
              "      <th>dt</th>\n",
              "      <td>Decision Tree Classifier</td>\n",
              "      <td>0.9974</td>\n",
              "      <td>0.7230</td>\n",
              "      <td>0.4476</td>\n",
              "      <td>0.3044</td>\n",
              "      <td>0.3561</td>\n",
              "      <td>0.3548</td>\n",
              "      <td>0.3646</td>\n",
              "      <td>1.910</td>\n",
              "    </tr>\n",
              "    <tr>\n",
              "      <th>svm</th>\n",
              "      <td>SVM - Linear Kernel</td>\n",
              "      <td>0.9873</td>\n",
              "      <td>0.0000</td>\n",
              "      <td>0.7381</td>\n",
              "      <td>0.1232</td>\n",
              "      <td>0.2007</td>\n",
              "      <td>0.1984</td>\n",
              "      <td>0.2840</td>\n",
              "      <td>0.214</td>\n",
              "    </tr>\n",
              "    <tr>\n",
              "      <th>lr</th>\n",
              "      <td>Logistic Regression</td>\n",
              "      <td>0.9862</td>\n",
              "      <td>0.9594</td>\n",
              "      <td>0.7381</td>\n",
              "      <td>0.0929</td>\n",
              "      <td>0.1613</td>\n",
              "      <td>0.1588</td>\n",
              "      <td>0.2531</td>\n",
              "      <td>2.152</td>\n",
              "    </tr>\n",
              "    <tr>\n",
              "      <th>ridge</th>\n",
              "      <td>Ridge Classifier</td>\n",
              "      <td>0.9829</td>\n",
              "      <td>0.0000</td>\n",
              "      <td>0.7714</td>\n",
              "      <td>0.0753</td>\n",
              "      <td>0.1358</td>\n",
              "      <td>0.1332</td>\n",
              "      <td>0.2344</td>\n",
              "      <td>0.108</td>\n",
              "    </tr>\n",
              "    <tr>\n",
              "      <th>nb</th>\n",
              "      <td>Naive Bayes</td>\n",
              "      <td>0.9813</td>\n",
              "      <td>0.8918</td>\n",
              "      <td>0.8048</td>\n",
              "      <td>0.0686</td>\n",
              "      <td>0.1261</td>\n",
              "      <td>0.1234</td>\n",
              "      <td>0.2309</td>\n",
              "      <td>0.108</td>\n",
              "    </tr>\n",
              "    <tr>\n",
              "      <th>lda</th>\n",
              "      <td>Linear Discriminant Analysis</td>\n",
              "      <td>0.9820</td>\n",
              "      <td>0.9374</td>\n",
              "      <td>0.7048</td>\n",
              "      <td>0.0666</td>\n",
              "      <td>0.1206</td>\n",
              "      <td>0.1179</td>\n",
              "      <td>0.2102</td>\n",
              "      <td>0.426</td>\n",
              "    </tr>\n",
              "    <tr>\n",
              "      <th>qda</th>\n",
              "      <td>Quadratic Discriminant Analysis</td>\n",
              "      <td>0.9983</td>\n",
              "      <td>0.5000</td>\n",
              "      <td>0.0000</td>\n",
              "      <td>0.0000</td>\n",
              "      <td>0.0000</td>\n",
              "      <td>0.0000</td>\n",
              "      <td>0.0000</td>\n",
              "      <td>0.258</td>\n",
              "    </tr>\n",
              "  </tbody>\n",
              "</table>\n",
              "</div>"
            ],
            "text/plain": [
              "                                    Model  Accuracy     AUC  Recall   Prec.  \\\n",
              "et                 Extra Trees Classifier    0.9992  0.9435  0.7048  0.8057   \n",
              "rf               Random Forest Classifier    0.9990  0.9598  0.6381  0.7581   \n",
              "gbc          Gradient Boosting Classifier    0.9984  0.9576  0.6714  0.5317   \n",
              "ada                  Ada Boost Classifier    0.9984  0.9371  0.6714  0.5445   \n",
              "lightgbm  Light Gradient Boosting Machine    0.9985  0.9293  0.5762  0.6465   \n",
              "knn                K Neighbors Classifier    0.9966  0.8369  0.6762  0.2801   \n",
              "dt               Decision Tree Classifier    0.9974  0.7230  0.4476  0.3044   \n",
              "svm                   SVM - Linear Kernel    0.9873  0.0000  0.7381  0.1232   \n",
              "lr                    Logistic Regression    0.9862  0.9594  0.7381  0.0929   \n",
              "ridge                    Ridge Classifier    0.9829  0.0000  0.7714  0.0753   \n",
              "nb                            Naive Bayes    0.9813  0.8918  0.8048  0.0686   \n",
              "lda          Linear Discriminant Analysis    0.9820  0.9374  0.7048  0.0666   \n",
              "qda       Quadratic Discriminant Analysis    0.9983  0.5000  0.0000  0.0000   \n",
              "\n",
              "              F1   Kappa     MCC  TT (Sec)  \n",
              "et        0.7347  0.7343  0.7444     2.020  \n",
              "rf        0.6805  0.6800  0.6886    11.986  \n",
              "gbc       0.5874  0.5866  0.5937    54.442  \n",
              "ada       0.5757  0.5750  0.5907    10.650  \n",
              "lightgbm  0.5733  0.5726  0.5912     1.904  \n",
              "knn       0.3942  0.3928  0.4326    10.200  \n",
              "dt        0.3561  0.3548  0.3646     1.910  \n",
              "svm       0.2007  0.1984  0.2840     0.214  \n",
              "lr        0.1613  0.1588  0.2531     2.152  \n",
              "ridge     0.1358  0.1332  0.2344     0.108  \n",
              "nb        0.1261  0.1234  0.2309     0.108  \n",
              "lda       0.1206  0.1179  0.2102     0.426  \n",
              "qda       0.0000  0.0000  0.0000     0.258  "
            ]
          },
          "metadata": {
            "tags": []
          }
        }
      ]
    },
    {
      "cell_type": "code",
      "metadata": {
        "colab": {
          "base_uri": "https://localhost:8080/",
          "height": 266,
          "referenced_widgets": [
            "e0fbfaefb1bb41f79fe4e97187732a56",
            "1dad777a72b043d19529185964534db5",
            "ea080f72c5134a68bf51bee9c0647306"
          ]
        },
        "id": "iiw7cXgjqWxe",
        "outputId": "8f1fa26f-0116-4469-83b0-c09dcb42f069"
      },
      "source": [
        "et = top2[0]\n",
        "\n",
        "et_params = {\n",
        "    'min_samples_split': np.arange(1, 25, 1),\n",
        "    'max_depth': [int(x) for x in np.linspace(10, 160, num = 11)],\n",
        "    'max_features': [\"auto\", \"sqrt\", \"log2\"],\n",
        "}\n",
        "\n",
        "tuned_et = tune_model(et, optimize='F1', custom_grid=et_params, fold=5)"
      ],
      "execution_count": 16,
      "outputs": [
        {
          "output_type": "display_data",
          "data": {
            "text/html": [
              "<div>\n",
              "<style scoped>\n",
              "    .dataframe tbody tr th:only-of-type {\n",
              "        vertical-align: middle;\n",
              "    }\n",
              "\n",
              "    .dataframe tbody tr th {\n",
              "        vertical-align: top;\n",
              "    }\n",
              "\n",
              "    .dataframe thead th {\n",
              "        text-align: right;\n",
              "    }\n",
              "</style>\n",
              "<table border=\"1\" class=\"dataframe\">\n",
              "  <thead>\n",
              "    <tr style=\"text-align: right;\">\n",
              "      <th></th>\n",
              "      <th>Accuracy</th>\n",
              "      <th>AUC</th>\n",
              "      <th>Recall</th>\n",
              "      <th>Prec.</th>\n",
              "      <th>F1</th>\n",
              "      <th>Kappa</th>\n",
              "      <th>MCC</th>\n",
              "    </tr>\n",
              "  </thead>\n",
              "  <tbody>\n",
              "    <tr>\n",
              "      <th>0</th>\n",
              "      <td>0.9997</td>\n",
              "      <td>0.9910</td>\n",
              "      <td>0.8571</td>\n",
              "      <td>1.0000</td>\n",
              "      <td>0.9231</td>\n",
              "      <td>0.9229</td>\n",
              "      <td>0.9257</td>\n",
              "    </tr>\n",
              "    <tr>\n",
              "      <th>1</th>\n",
              "      <td>0.9992</td>\n",
              "      <td>0.9020</td>\n",
              "      <td>0.8333</td>\n",
              "      <td>0.7143</td>\n",
              "      <td>0.7692</td>\n",
              "      <td>0.7688</td>\n",
              "      <td>0.7711</td>\n",
              "    </tr>\n",
              "    <tr>\n",
              "      <th>2</th>\n",
              "      <td>0.9992</td>\n",
              "      <td>0.9044</td>\n",
              "      <td>0.5000</td>\n",
              "      <td>1.0000</td>\n",
              "      <td>0.6667</td>\n",
              "      <td>0.6663</td>\n",
              "      <td>0.7068</td>\n",
              "    </tr>\n",
              "    <tr>\n",
              "      <th>3</th>\n",
              "      <td>0.9992</td>\n",
              "      <td>0.9997</td>\n",
              "      <td>0.8333</td>\n",
              "      <td>0.7143</td>\n",
              "      <td>0.7692</td>\n",
              "      <td>0.7688</td>\n",
              "      <td>0.7711</td>\n",
              "    </tr>\n",
              "    <tr>\n",
              "      <th>4</th>\n",
              "      <td>0.9989</td>\n",
              "      <td>0.9745</td>\n",
              "      <td>0.6667</td>\n",
              "      <td>0.6667</td>\n",
              "      <td>0.6667</td>\n",
              "      <td>0.6661</td>\n",
              "      <td>0.6661</td>\n",
              "    </tr>\n",
              "    <tr>\n",
              "      <th>Mean</th>\n",
              "      <td>0.9992</td>\n",
              "      <td>0.9543</td>\n",
              "      <td>0.7381</td>\n",
              "      <td>0.8190</td>\n",
              "      <td>0.7590</td>\n",
              "      <td>0.7586</td>\n",
              "      <td>0.7682</td>\n",
              "    </tr>\n",
              "    <tr>\n",
              "      <th>SD</th>\n",
              "      <td>0.0003</td>\n",
              "      <td>0.0425</td>\n",
              "      <td>0.1372</td>\n",
              "      <td>0.1488</td>\n",
              "      <td>0.0940</td>\n",
              "      <td>0.0941</td>\n",
              "      <td>0.0883</td>\n",
              "    </tr>\n",
              "  </tbody>\n",
              "</table>\n",
              "</div>"
            ],
            "text/plain": [
              "      Accuracy     AUC  Recall   Prec.      F1   Kappa     MCC\n",
              "0       0.9997  0.9910  0.8571  1.0000  0.9231  0.9229  0.9257\n",
              "1       0.9992  0.9020  0.8333  0.7143  0.7692  0.7688  0.7711\n",
              "2       0.9992  0.9044  0.5000  1.0000  0.6667  0.6663  0.7068\n",
              "3       0.9992  0.9997  0.8333  0.7143  0.7692  0.7688  0.7711\n",
              "4       0.9989  0.9745  0.6667  0.6667  0.6667  0.6661  0.6661\n",
              "Mean    0.9992  0.9543  0.7381  0.8190  0.7590  0.7586  0.7682\n",
              "SD      0.0003  0.0425  0.1372  0.1488  0.0940  0.0941  0.0883"
            ]
          },
          "metadata": {
            "tags": []
          }
        }
      ]
    },
    {
      "cell_type": "code",
      "metadata": {
        "id": "fJpGtGOjqbFd",
        "colab": {
          "base_uri": "https://localhost:8080/",
          "height": 266,
          "referenced_widgets": [
            "48373fde54a3405cbade293b7b8ca88a",
            "49e5e483f853498fa628fd00467debdd",
            "26445a21519741b6b630d1104d182110"
          ]
        },
        "outputId": "304cdbec-3d9d-4e4d-dcd7-0af9fb62ec40"
      },
      "source": [
        "rf = top2[1]\n",
        "\n",
        "rf_params = {\n",
        "    'min_samples_split': np.arange(5, 10, 1),\n",
        "    'max_depth': [int(x) for x in np.linspace(20, 110, num = 11)],\n",
        "    'max_features': [\"auto\", \"sqrt\", \"log2\"],\n",
        "}\n",
        "\n",
        "tuned_rf = tune_model(rf, optimize='F1', custom_grid=rf_params, fold=5)"
      ],
      "execution_count": 17,
      "outputs": [
        {
          "output_type": "display_data",
          "data": {
            "text/html": [
              "<div>\n",
              "<style scoped>\n",
              "    .dataframe tbody tr th:only-of-type {\n",
              "        vertical-align: middle;\n",
              "    }\n",
              "\n",
              "    .dataframe tbody tr th {\n",
              "        vertical-align: top;\n",
              "    }\n",
              "\n",
              "    .dataframe thead th {\n",
              "        text-align: right;\n",
              "    }\n",
              "</style>\n",
              "<table border=\"1\" class=\"dataframe\">\n",
              "  <thead>\n",
              "    <tr style=\"text-align: right;\">\n",
              "      <th></th>\n",
              "      <th>Accuracy</th>\n",
              "      <th>AUC</th>\n",
              "      <th>Recall</th>\n",
              "      <th>Prec.</th>\n",
              "      <th>F1</th>\n",
              "      <th>Kappa</th>\n",
              "      <th>MCC</th>\n",
              "    </tr>\n",
              "  </thead>\n",
              "  <tbody>\n",
              "    <tr>\n",
              "      <th>0</th>\n",
              "      <td>0.9997</td>\n",
              "      <td>0.9959</td>\n",
              "      <td>0.8571</td>\n",
              "      <td>1.0000</td>\n",
              "      <td>0.9231</td>\n",
              "      <td>0.9229</td>\n",
              "      <td>0.9257</td>\n",
              "    </tr>\n",
              "    <tr>\n",
              "      <th>1</th>\n",
              "      <td>0.9989</td>\n",
              "      <td>0.9882</td>\n",
              "      <td>0.6667</td>\n",
              "      <td>0.6667</td>\n",
              "      <td>0.6667</td>\n",
              "      <td>0.6661</td>\n",
              "      <td>0.6661</td>\n",
              "    </tr>\n",
              "    <tr>\n",
              "      <th>2</th>\n",
              "      <td>0.9992</td>\n",
              "      <td>0.9075</td>\n",
              "      <td>0.5000</td>\n",
              "      <td>1.0000</td>\n",
              "      <td>0.6667</td>\n",
              "      <td>0.6663</td>\n",
              "      <td>0.7068</td>\n",
              "    </tr>\n",
              "    <tr>\n",
              "      <th>3</th>\n",
              "      <td>0.9989</td>\n",
              "      <td>0.9997</td>\n",
              "      <td>0.6667</td>\n",
              "      <td>0.6667</td>\n",
              "      <td>0.6667</td>\n",
              "      <td>0.6661</td>\n",
              "      <td>0.6661</td>\n",
              "    </tr>\n",
              "    <tr>\n",
              "      <th>4</th>\n",
              "      <td>0.9986</td>\n",
              "      <td>0.9922</td>\n",
              "      <td>0.5000</td>\n",
              "      <td>0.6000</td>\n",
              "      <td>0.5455</td>\n",
              "      <td>0.5448</td>\n",
              "      <td>0.5471</td>\n",
              "    </tr>\n",
              "    <tr>\n",
              "      <th>Mean</th>\n",
              "      <td>0.9991</td>\n",
              "      <td>0.9767</td>\n",
              "      <td>0.6381</td>\n",
              "      <td>0.7867</td>\n",
              "      <td>0.6937</td>\n",
              "      <td>0.6933</td>\n",
              "      <td>0.7024</td>\n",
              "    </tr>\n",
              "    <tr>\n",
              "      <th>SD</th>\n",
              "      <td>0.0004</td>\n",
              "      <td>0.0348</td>\n",
              "      <td>0.1325</td>\n",
              "      <td>0.1759</td>\n",
              "      <td>0.1239</td>\n",
              "      <td>0.1241</td>\n",
              "      <td>0.1238</td>\n",
              "    </tr>\n",
              "  </tbody>\n",
              "</table>\n",
              "</div>"
            ],
            "text/plain": [
              "      Accuracy     AUC  Recall   Prec.      F1   Kappa     MCC\n",
              "0       0.9997  0.9959  0.8571  1.0000  0.9231  0.9229  0.9257\n",
              "1       0.9989  0.9882  0.6667  0.6667  0.6667  0.6661  0.6661\n",
              "2       0.9992  0.9075  0.5000  1.0000  0.6667  0.6663  0.7068\n",
              "3       0.9989  0.9997  0.6667  0.6667  0.6667  0.6661  0.6661\n",
              "4       0.9986  0.9922  0.5000  0.6000  0.5455  0.5448  0.5471\n",
              "Mean    0.9991  0.9767  0.6381  0.7867  0.6937  0.6933  0.7024\n",
              "SD      0.0004  0.0348  0.1325  0.1759  0.1239  0.1241  0.1238"
            ]
          },
          "metadata": {
            "tags": []
          }
        }
      ]
    },
    {
      "cell_type": "code",
      "metadata": {
        "colab": {
          "base_uri": "https://localhost:8080/",
          "height": 401,
          "referenced_widgets": [
            "74ec2df90e2546eead7f5cdfb61f9185",
            "ab3de6357a214fab825d8e2b291c8f6c",
            "be004d71ade4471ab7202277843d3c3f"
          ]
        },
        "id": "YA5lpKecwQFk",
        "outputId": "c473261e-9f0b-4c61-e2f9-f5c4d9eb51ed"
      },
      "source": [
        "plot_model(tuned_et, plot=\"confusion_matrix\")"
      ],
      "execution_count": 18,
      "outputs": [
        {
          "output_type": "display_data",
          "data": {
            "image/png": "[encoded data removed]",
            "text/plain": [
              "<Figure size 576x396 with 1 Axes>"
            ]
          },
          "metadata": {
            "tags": []
          }
        }
      ]
    },
    {
      "cell_type": "code",
      "metadata": {
        "colab": {
          "base_uri": "https://localhost:8080/",
          "height": 376,
          "referenced_widgets": [
            "114f0a020e4f41d9bba8b64db7229ebc",
            "ee50c930e31740f290b951e1dcd5eff9",
            "6579926014464a7b816af49bac1c463e"
          ]
        },
        "id": "UFv3o8ZcwjXM",
        "outputId": "53992f43-7804-45c5-cbec-37f704e4fb55"
      },
      "source": [
        "plot_model(tuned_et, plot=\"auc\")"
      ],
      "execution_count": 19,
      "outputs": [
        {
          "output_type": "display_data",
          "data": {
            "image/png": "[encoded data removed]",
            "text/plain": [
              "<Figure size 576x396 with 1 Axes>"
            ]
          },
          "metadata": {
            "tags": []
          }
        }
      ]
    },
    {
      "cell_type": "code",
      "metadata": {
        "colab": {
          "base_uri": "https://localhost:8080/",
          "height": 401,
          "referenced_widgets": [
            "1bddef18e01c432ebec3d95235bae6fa",
            "f862c7b199624fe7bd413e62b094bf4d",
            "82e59eb07b1b42ee9918d77c72460b4b"
          ]
        },
        "id": "ekBJjXR5w7RS",
        "outputId": "f423bba3-0500-458b-8ee1-48916c3a92a7"
      },
      "source": [
        "plot_model(tuned_rf, plot=\"confusion_matrix\")"
      ],
      "execution_count": 20,
      "outputs": [
        {
          "output_type": "display_data",
          "data": {
            "image/png": "[encoded data removed]",
            "text/plain": [
              "<Figure size 576x396 with 1 Axes>"
            ]
          },
          "metadata": {
            "tags": []
          }
        }
      ]
    },
    {
      "cell_type": "code",
      "metadata": {
        "colab": {
          "base_uri": "https://localhost:8080/",
          "height": 376
        },
        "id": "82a0o8eKxEfx",
        "outputId": "1768f978-8e0a-4605-becb-321be5327246"
      },
      "source": [
        "plot_model(tuned_rf, plot=\"auc\")"
      ],
      "execution_count": 21,
      "outputs": [
        {
          "output_type": "display_data",
          "data": {
            "image/png": "[encoded data removed]",
            "text/plain": [
              "<Figure size 576x396 with 1 Axes>"
            ]
          },
          "metadata": {
            "tags": []
          }
        }
      ]
    },
    {
      "cell_type": "code",
      "metadata": {
        "colab": {
          "base_uri": "https://localhost:8080/",
          "height": 80
        },
        "id": "b6APOkIo0dwq",
        "outputId": "9b009877-04ea-495c-ce4f-975441305844"
      },
      "source": [
        "predict_model(tuned_et);"
      ],
      "execution_count": 26,
      "outputs": [
        {
          "output_type": "display_data",
          "data": {
            "text/html": [
              "<div>\n",
              "<style scoped>\n",
              "    .dataframe tbody tr th:only-of-type {\n",
              "        vertical-align: middle;\n",
              "    }\n",
              "\n",
              "    .dataframe tbody tr th {\n",
              "        vertical-align: top;\n",
              "    }\n",
              "\n",
              "    .dataframe thead th {\n",
              "        text-align: right;\n",
              "    }\n",
              "</style>\n",
              "<table border=\"1\" class=\"dataframe\">\n",
              "  <thead>\n",
              "    <tr style=\"text-align: right;\">\n",
              "      <th></th>\n",
              "      <th>Model</th>\n",
              "      <th>Accuracy</th>\n",
              "      <th>AUC</th>\n",
              "      <th>Recall</th>\n",
              "      <th>Prec.</th>\n",
              "      <th>F1</th>\n",
              "      <th>Kappa</th>\n",
              "      <th>MCC</th>\n",
              "    </tr>\n",
              "  </thead>\n",
              "  <tbody>\n",
              "    <tr>\n",
              "      <th>0</th>\n",
              "      <td>Extra Trees Classifier</td>\n",
              "      <td>0.9996</td>\n",
              "      <td>0.9999</td>\n",
              "      <td>0.75</td>\n",
              "      <td>1.0</td>\n",
              "      <td>0.8571</td>\n",
              "      <td>0.8569</td>\n",
              "      <td>0.8658</td>\n",
              "    </tr>\n",
              "  </tbody>\n",
              "</table>\n",
              "</div>"
            ],
            "text/plain": [
              "                    Model  Accuracy     AUC  ...      F1   Kappa     MCC\n",
              "0  Extra Trees Classifier    0.9996  0.9999  ...  0.8571  0.8569  0.8658\n",
              "\n",
              "[1 rows x 8 columns]"
            ]
          },
          "metadata": {
            "tags": []
          }
        }
      ]
    },
    {
      "cell_type": "code",
      "metadata": {
        "colab": {
          "base_uri": "https://localhost:8080/",
          "height": 80
        },
        "id": "PfmsLxty0fvB",
        "outputId": "f538b610-d74d-4530-d77b-44037aafcdce"
      },
      "source": [
        "predict_model(tuned_rf);"
      ],
      "execution_count": 27,
      "outputs": [
        {
          "output_type": "display_data",
          "data": {
            "text/html": [
              "<div>\n",
              "<style scoped>\n",
              "    .dataframe tbody tr th:only-of-type {\n",
              "        vertical-align: middle;\n",
              "    }\n",
              "\n",
              "    .dataframe tbody tr th {\n",
              "        vertical-align: top;\n",
              "    }\n",
              "\n",
              "    .dataframe thead th {\n",
              "        text-align: right;\n",
              "    }\n",
              "</style>\n",
              "<table border=\"1\" class=\"dataframe\">\n",
              "  <thead>\n",
              "    <tr style=\"text-align: right;\">\n",
              "      <th></th>\n",
              "      <th>Model</th>\n",
              "      <th>Accuracy</th>\n",
              "      <th>AUC</th>\n",
              "      <th>Recall</th>\n",
              "      <th>Prec.</th>\n",
              "      <th>F1</th>\n",
              "      <th>Kappa</th>\n",
              "      <th>MCC</th>\n",
              "    </tr>\n",
              "  </thead>\n",
              "  <tbody>\n",
              "    <tr>\n",
              "      <th>0</th>\n",
              "      <td>Random Forest Classifier</td>\n",
              "      <td>0.9993</td>\n",
              "      <td>0.9999</td>\n",
              "      <td>0.625</td>\n",
              "      <td>1.0</td>\n",
              "      <td>0.7692</td>\n",
              "      <td>0.7689</td>\n",
              "      <td>0.7903</td>\n",
              "    </tr>\n",
              "  </tbody>\n",
              "</table>\n",
              "</div>"
            ],
            "text/plain": [
              "                      Model  Accuracy     AUC  ...      F1   Kappa     MCC\n",
              "0  Random Forest Classifier    0.9993  0.9999  ...  0.7692  0.7689  0.7903\n",
              "\n",
              "[1 rows x 8 columns]"
            ]
          },
          "metadata": {
            "tags": []
          }
        }
      ]
    },
    {
      "cell_type": "code",
      "metadata": {
        "id": "3-xSRsPQ1F3j"
      },
      "source": [
        "final_et = finalize_model(tuned_et)"
      ],
      "execution_count": 28,
      "outputs": []
    },
    {
      "cell_type": "code",
      "metadata": {
        "id": "thCUocUG1p-4"
      },
      "source": [
        "final_rf = finalize_model(tuned_rf)"
      ],
      "execution_count": 29,
      "outputs": []
    },
    {
      "cell_type": "code",
      "metadata": {
        "colab": {
          "base_uri": "https://localhost:8080/"
        },
        "id": "oMr8giXC3OiN",
        "outputId": "ce048da7-33f5-4f5a-f900-b4531f8c658f"
      },
      "source": [
        "!pip install boto3"
      ],
      "execution_count": 32,
      "outputs": [
        {
          "output_type": "stream",
          "text": [
            "Requirement already satisfied: boto3 in /usr/local/lib/python3.7/dist-packages (1.18.6)\n",
            "Requirement already satisfied: jmespath<1.0.0,>=0.7.1 in /usr/local/lib/python3.7/dist-packages (from boto3) (0.10.0)\n",
            "Requirement already satisfied: botocore<1.22.0,>=1.21.6 in /usr/local/lib/python3.7/dist-packages (from boto3) (1.21.6)\n",
            "Requirement already satisfied: s3transfer<0.6.0,>=0.5.0 in /usr/local/lib/python3.7/dist-packages (from boto3) (0.5.0)\n",
            "Requirement already satisfied: python-dateutil<3.0.0,>=2.1 in /usr/local/lib/python3.7/dist-packages (from botocore<1.22.0,>=1.21.6->boto3) (2.8.1)\n",
            "Requirement already satisfied: urllib3<1.27,>=1.25.4 in /usr/local/lib/python3.7/dist-packages (from botocore<1.22.0,>=1.21.6->boto3) (1.26.6)\n",
            "Requirement already satisfied: six>=1.5 in /usr/local/lib/python3.7/dist-packages (from python-dateutil<3.0.0,>=2.1->botocore<1.22.0,>=1.21.6->boto3) (1.15.0)\n"
          ],
          "name": "stdout"
        }
      ]
    },
    {
      "cell_type": "code",
      "metadata": {
        "id": "bwhcgOeV33Ki"
      },
      "source": [
        "import os\n",
        "\n",
        "os.environ['AWS_DEFAULT_REGION'] = 'ap-south-1'\n",
        "os.environ['AWS_ACCESS_KEY_ID'] = ###                       # Value replaced after deploying model\n",
        "os.environ['AWS_SECRET_ACCESS_KEY'] = ###                   # Value replaced after deploying model"
      ],
      "execution_count": 36,
      "outputs": []
    },
    {
      "cell_type": "code",
      "metadata": {
        "colab": {
          "base_uri": "https://localhost:8080/"
        },
        "id": "lsj3oBBz15Sc",
        "outputId": "ceba9b45-c6b7-4ada-bdd9-f25e23639ffd"
      },
      "source": [
        "deploy_model(model=final_et, model_name='et_deployed', platform='aws', authentication={'bucket': 'mlopsassignment180100112'})"
      ],
      "execution_count": 37,
      "outputs": [
        {
          "output_type": "stream",
          "text": [
            "Model Successfully Deployed on AWS S3\n"
          ],
          "name": "stdout"
        }
      ]
    },
    {
      "cell_type": "code",
      "metadata": {
        "colab": {
          "base_uri": "https://localhost:8080/"
        },
        "id": "8tZob1Yj4zoR",
        "outputId": "738e474f-e779-4e97-95f2-4a3d00bfed01"
      },
      "source": [
        "deploy_model(model=final_rf, model_name='rf_deployed', platform='aws', authentication={'bucket': 'mlopsassignment180100112'})"
      ],
      "execution_count": 38,
      "outputs": [
        {
          "output_type": "stream",
          "text": [
            "Model Successfully Deployed on AWS S3\n"
          ],
          "name": "stdout"
        }
      ]
    },
    {
      "cell_type": "code",
      "metadata": {
        "id": "41IlmX7h7Iyy"
      },
      "source": [
        "!zip -r /content/mlruns.zip /content/mlruns"
      ],
      "execution_count": null,
      "outputs": []
    }
  ]
}
